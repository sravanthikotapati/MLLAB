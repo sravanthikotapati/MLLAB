{
 "cells": [
  {
   "cell_type": "code",
   "execution_count": 1,
   "id": "ee71f963",
   "metadata": {},
   "outputs": [],
   "source": [
    "import pandas as pd\n",
    "df=pd.read_csv(\"exampleai.csv\")\n",
    "df"
   ]
  },
  {
   "cell_type": "code",
   "execution_count": 2,
   "id": "cf10abae",
   "metadata": {},
   "outputs": [],
   "source": [
    "x= df.iloc[:,:-1].values  \n",
    "y= df.iloc[:,3].values  "
   ]
  },
  {
   "cell_type": "code",
   "execution_count": 3,
   "id": "22c80a3a",
   "metadata": {},
   "outputs": [],
   "source": [
    "print(x.shape)\n",
    "print(y.shape)"
   ]
  },
  {
   "cell_type": "code",
   "execution_count": 4,
   "id": "8f8557d7",
   "metadata": {},
   "outputs": [],
   "source": [
    "print(x)\n",
    "print(y)"
   ]
  },
  {
   "cell_type": "code",
   "execution_count": 5,
   "id": "4abec993",
   "metadata": {},
   "outputs": [],
   "source": [
    "from sklearn.preprocessing import Imputer  \n",
    "imputer= Imputer(missing_values ='NaN', strategy='mean', axis = 0)  "
   ]
  },
  {
   "cell_type": "code",
   "execution_count": null,
   "id": "c0379a81",
   "metadata": {},
   "outputs": [],
   "source": []
  },
  {
   "cell_type": "code",
   "execution_count": null,
   "id": "6391776a",
   "metadata": {},
   "outputs": [],
   "source": []
  },
  {
   "cell_type": "code",
   "execution_count": null,
   "id": "b059a9b2",
   "metadata": {},
   "outputs": [],
   "source": []
  }
 ],
 "metadata": {
  "kernelspec": {
   "display_name": "Python 3 (ipykernel)",
   "language": "python",
   "name": "python3"
  },
  "language_info": {
   "codemirror_mode": {
    "name": "ipython",
    "version": 3
   },
   "file_extension": ".py",
   "mimetype": "text/x-python",
   "name": "python",
   "nbconvert_exporter": "python",
   "pygments_lexer": "ipython3",
   "version": "3.11.3"
  }
 },
 "nbformat": 4,
 "nbformat_minor": 5
}
